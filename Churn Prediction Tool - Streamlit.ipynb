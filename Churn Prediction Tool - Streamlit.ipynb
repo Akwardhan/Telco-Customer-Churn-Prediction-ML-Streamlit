{
 "cells": [
  {
   "cell_type": "code",
   "execution_count": 1,
   "id": "cdd7a2c2-d850-4dca-bf8a-e19d8659fd2d",
   "metadata": {},
   "outputs": [],
   "source": [
    "import streamlit as st\n",
    "import pandas as pd\n",
    "import joblib"
   ]
  },
  {
   "cell_type": "code",
   "execution_count": null,
   "id": "64659522-efc8-4786-85c9-d7dbe01ecb71",
   "metadata": {},
   "outputs": [],
   "source": []
  },
  {
   "cell_type": "code",
   "execution_count": 6,
   "id": "76c9d29d-b5b2-447b-8fd4-b99b978ad3d9",
   "metadata": {},
   "outputs": [],
   "source": [
    "model = joblib.load(r\"D:\\Data Analysis\\MySQL\\Customer Churn\\Telco-Churn-Model\\Churn Mode\\model.pkl\")\n",
    "feature_names = joblib.load(r\"D:\\Data Analysis\\MySQL\\Customer Churn\\Telco-Churn-Model\\Churn Mode\\feature_names.pkl\")\n",
    "st.title(\"📉 Telco Customer Churn Prediction\")\n",
    "st.write(\"Fill in the customer details below to predict if they are likely to churn.\")\n",
    "\n",
    "contract = st.selectbox(\"Contract Type\",[\"Month-to-month\",\"One Year\", \"Two Year\"])\n",
    "tenure = st.number_input(\"Tenure (Months with Company)\", min_value =0, max_value=72,value=12)\n",
    "monthly_charges = st.number_input(\"Monthly Charges\",min_value=0.0, max_value = 2000.0,value = 70.0)\n",
    "total_charges = st.number_input(\"Total Charges\", min_value = 0.0, max_value =12000.0, value = 12000.0)\n",
    "\n",
    "internet_service = st.selectbox(\"Internet Service Type\",[\"DSL\",\"Fiber Optic\",\"No\"])\n",
    "tech_support = st.selectbox(\"Tech Support\",[\"Yes\",\"No\",\"No internet Service\"])\n",
    "payment_method = st.selectbox(\"Payment Method\",[\"Electronic check\",\" Mailed Check\",\" Bank Transfer(Auto-pay)\", \"Credit Card(Auto-pay)\"])\n",
    "paperless_billing = st.selectbox(\"Paperless Billing?\",[\"Yes\",\"No\"])\n",
    "\n",
    "input_data = pd.DataFrame({\n",
    "    \"contract\":[contract],\n",
    "    \"tenure\":[tenure],\n",
    "    \"monthlyCharges\":[monthly_charges],\n",
    "    \"TotalCharges\":[total_charges],\n",
    "    \"InternetService\":[internet_service],\n",
    "    'TechSupport':[tech_support],\n",
    "    \"PaymentMethod\":[payment_method],\n",
    "    \"PaperlessBilling\":[paperless_billing]\n",
    "})\n",
    "\n",
    "if st.button (\"🔍 Predict Churn\"):\n",
    "\n",
    "    input_encoded = pd.get_dummies(input_data)\n",
    "    input_encoded = input_encoded.reindex(columns=feature_names, fill_value = 0)\n",
    "    prediction = model.predict(input_encoded)[0]\n",
    "    probability = model.predict_proba(input_encoded)[0][1]\n",
    "    \n",
    "    if prediction:\n",
    "        st.error(f\"⚠️ High Risk: This customer is likely to churn.(churn Probability:{probability:.2f})\")\n",
    "    else:\n",
    "        st.success(f\"✅ Low Risk: This customer is likely to stay.(churn Probability:{probability:.2f})\")\n"
   ]
  },
  {
   "cell_type": "code",
   "execution_count": null,
   "id": "800da01f-fbfe-4234-92bf-2507f273282b",
   "metadata": {},
   "outputs": [],
   "source": []
  },
  {
   "cell_type": "code",
   "execution_count": null,
   "id": "fb082cba-e700-4aa4-91c7-956ea263b6fb",
   "metadata": {},
   "outputs": [],
   "source": []
  },
  {
   "cell_type": "code",
   "execution_count": null,
   "id": "5e919331-1abf-4a8b-9b71-b775bd0030fd",
   "metadata": {},
   "outputs": [],
   "source": []
  },
  {
   "cell_type": "code",
   "execution_count": null,
   "id": "c498ad87-60f4-4b5f-a8e8-c85090a1c435",
   "metadata": {},
   "outputs": [],
   "source": []
  },
  {
   "cell_type": "code",
   "execution_count": null,
   "id": "c5ac4a2b-6084-47cc-ba1c-390869e4a3c9",
   "metadata": {},
   "outputs": [],
   "source": []
  },
  {
   "cell_type": "code",
   "execution_count": null,
   "id": "f2fb6535-bf09-4913-9015-8baed4e6348a",
   "metadata": {},
   "outputs": [],
   "source": []
  },
  {
   "cell_type": "code",
   "execution_count": null,
   "id": "4aa9998f-01c3-4dba-b8f7-85c5b1af5c2b",
   "metadata": {},
   "outputs": [],
   "source": []
  },
  {
   "cell_type": "code",
   "execution_count": null,
   "id": "b032814d-dffe-4d44-a21e-30e36cb79b3e",
   "metadata": {},
   "outputs": [],
   "source": []
  },
  {
   "cell_type": "code",
   "execution_count": null,
   "id": "5135fc51-0f0e-4b87-81b2-1199b3ea61f7",
   "metadata": {},
   "outputs": [],
   "source": []
  },
  {
   "cell_type": "code",
   "execution_count": null,
   "id": "bffbc671-cb87-45c7-8b45-946455cc43e2",
   "metadata": {},
   "outputs": [],
   "source": []
  },
  {
   "cell_type": "code",
   "execution_count": null,
   "id": "1f51a71a-3586-4764-ba3a-c01da0456e59",
   "metadata": {},
   "outputs": [],
   "source": []
  },
  {
   "cell_type": "code",
   "execution_count": null,
   "id": "6735aab5-33f5-4a73-8fdd-3c6431cf2b5c",
   "metadata": {},
   "outputs": [],
   "source": []
  }
 ],
 "metadata": {
  "kernelspec": {
   "display_name": "Python 3 (ipykernel)",
   "language": "python",
   "name": "python3"
  },
  "language_info": {
   "codemirror_mode": {
    "name": "ipython",
    "version": 3
   },
   "file_extension": ".py",
   "mimetype": "text/x-python",
   "name": "python",
   "nbconvert_exporter": "python",
   "pygments_lexer": "ipython3",
   "version": "3.11.7"
  }
 },
 "nbformat": 4,
 "nbformat_minor": 5
}
